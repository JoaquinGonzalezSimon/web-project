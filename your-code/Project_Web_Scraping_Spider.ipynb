{
 "cells": [
  {
   "cell_type": "code",
   "execution_count": 1,
   "id": "bf8a3245",
   "metadata": {},
   "outputs": [],
   "source": [
    "import re\n",
    "import requests\n",
    "import numpy as np\n",
    "import pandas as pd\n",
    "\n",
    "from bs4 import BeautifulSoup"
   ]
  },
  {
   "cell_type": "code",
   "execution_count": 2,
   "id": "13799dd6",
   "metadata": {},
   "outputs": [],
   "source": [
    "def get_url(url):\n",
    "    res = requests.get(url)\n",
    "    contenido = res.content\n",
    "    soup = BeautifulSoup(contenido, 'lxml')\n",
    "    print(\"Data recovered\")\n",
    "    return soup\n",
    "\n",
    "def get_titles(soup):\n",
    "    titles = soup.find_all(\"div\", class_=\"col-12 col-sm-6 works-title\")\n",
    "    title_names = [title.text for title in titles]\n",
    "    print(\"Titles extracted\")\n",
    "    return title_names\n",
    "    \n",
    "def get_books(soup):\n",
    "    book_types = soup.find_all(\"div\", class_=\"col-6 col-sm-3 works-type\")\n",
    "    bk_types = [book_type.text for book_type in book_types]\n",
    "    print(\"Book types done\")\n",
    "    return bk_types\n",
    "    \n",
    "def get_dates(soup):\n",
    "    write_dates = soup.find_all(\"div\", class_=\"col-6 col-sm-3 works-date\")\n",
    "    dates = [date.text for date in write_dates]\n",
    "    print(\"Dates ready\")\n",
    "    return dates\n",
    "    \n",
    "def get_links(soup):\n",
    "    url = \"https://stephenking.com/works/\"\n",
    "    links_to_books = soup.find_all(\"a\", class_=\"row work\")\n",
    "    links_to_books[0][\"href\"]\n",
    "    book_links = [url + i[\"href\"] for i in links_to_books]\n",
    "    print(\"Links ok\")\n",
    "    return book_links\n",
    "    "
   ]
  },
  {
   "cell_type": "code",
   "execution_count": 3,
   "id": "3e11c738",
   "metadata": {},
   "outputs": [],
   "source": [
    "def StephenKingBooks():\n",
    "    url = \"https://stephenking.com/works/\"\n",
    "    soup = get_url(url)\n",
    "    print(\"soup done\")\n",
    "    titles = get_titles(soup)\n",
    "    print(\"tiles done\")\n",
    "    links = get_links(soup)\n",
    "    print(\"links done\")\n",
    "    dates = get_dates(soup)\n",
    "    print(\"dates done\")\n",
    "    books = get_books(soup)\n",
    "    print(\"books done\")\n",
    "    df = pd.DataFrame(zip(titles, books, dates, links), columns=[\"Title\", \"Book Type\", \"Publish Date\", \"Link to book\"])\n",
    "    print(\"DataFrame created\")\n",
    "    df.to_csv(\"Web_Scraping_Stephenkingbooks_JGonzalez.csv\", sep=\",\", index=False)\n",
    "    print(\"*.csv file created\")"
   ]
  },
  {
   "cell_type": "code",
   "execution_count": 4,
   "id": "cb649aeb",
   "metadata": {},
   "outputs": [
    {
     "name": "stdout",
     "output_type": "stream",
     "text": [
      "Data recovered\n",
      "soup done\n",
      "Titles extracted\n",
      "tiles done\n",
      "Links ok\n",
      "links done\n",
      "Dates ready\n",
      "dates done\n",
      "Book types done\n",
      "books done\n",
      "DataFrame created\n",
      "*.csv file created\n"
     ]
    }
   ],
   "source": [
    "StephenKingBooks()"
   ]
  },
  {
   "cell_type": "code",
   "execution_count": null,
   "id": "7236bb80",
   "metadata": {},
   "outputs": [],
   "source": []
  }
 ],
 "metadata": {
  "kernelspec": {
   "display_name": "Python 3 (ipykernel)",
   "language": "python",
   "name": "python3"
  },
  "language_info": {
   "codemirror_mode": {
    "name": "ipython",
    "version": 3
   },
   "file_extension": ".py",
   "mimetype": "text/x-python",
   "name": "python",
   "nbconvert_exporter": "python",
   "pygments_lexer": "ipython3",
   "version": "3.10.2"
  }
 },
 "nbformat": 4,
 "nbformat_minor": 5
}
