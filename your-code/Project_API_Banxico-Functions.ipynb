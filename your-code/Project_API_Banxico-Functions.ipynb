{
 "cells": [
  {
   "cell_type": "markdown",
   "id": "371ac9ed",
   "metadata": {},
   "source": [
    "# API Banxico\n",
    "\n",
    "Descarga de series de tiempos de Udis, Tipo de cambio y tasa de interés objetivo"
   ]
  },
  {
   "cell_type": "code",
   "execution_count": 1,
   "id": "e185e1f0",
   "metadata": {},
   "outputs": [],
   "source": [
    "import requests\n",
    "import time\n",
    "import json\n",
    "import pandas as pd"
   ]
  },
  {
   "cell_type": "code",
   "execution_count": 2,
   "id": "b4cd4f6d",
   "metadata": {},
   "outputs": [],
   "source": [
    "\n",
    "def start(series):\n",
    "    serie = series\n",
    "    token = \"/datos?token=\" #token eliminado\n",
    "    base_url = \"https://www.banxico.org.mx/SieAPIRest/service/v1/series/\"\n",
    "    full_banxico_url = base_url + serie + token\n",
    "    print(\"Correct URL created\")\n",
    "    res = requests.get(full_banxico_url)\n",
    "    print(\"Connection status:\", res.status_code)\n",
    "    contenido = res.json()\n",
    "    data = contenido[\"bmx\"][\"series\"]\n",
    "    print(\"Data created\")\n",
    "    return data"
   ]
  },
  {
   "cell_type": "code",
   "execution_count": 3,
   "id": "3076e8bf",
   "metadata": {
    "collapsed": true
   },
   "outputs": [],
   "source": [
    "def fx(data):\n",
    "    fx_data = data[0][\"datos\"]\n",
    "    print(\"FX data extracted\")\n",
    "    df_fx = pd.DataFrame(fx_data)\n",
    "    df_fx = df_fx.rename(columns={\"dato\":\"Tipo de cambio FIX\"})\n",
    "    print(\"FX df created\")\n",
    "    return df_fx\n"
   ]
  },
  {
   "cell_type": "code",
   "execution_count": 4,
   "id": "8940e267",
   "metadata": {
    "collapsed": true
   },
   "outputs": [],
   "source": [
    "def tasa(data):\n",
    "    tasa_data = data[1][\"datos\"]\n",
    "    print(\"Tasa data extracted\")\n",
    "    df_tasa = pd.DataFrame(tasa_data)\n",
    "    df_tasa = df_tasa.rename(columns={\"dato\":\"Tasa de interés objetivo\"})\n",
    "    print('Tasa df created')\n",
    "    return df_tasa"
   ]
  },
  {
   "cell_type": "code",
   "execution_count": 5,
   "id": "09dccd9b",
   "metadata": {
    "collapsed": true
   },
   "outputs": [],
   "source": [
    "def udis(data):\n",
    "    udis_data = data[2][\"datos\"]\n",
    "    print(\"UDIS data extracted\")\n",
    "    df_udis = pd.DataFrame(udis_data)\n",
    "    df_udis = df_udis.rename(columns={\"dato\":\"UDIS\"})\n",
    "    print('UDIS df created')\n",
    "    return df_udis"
   ]
  },
  {
   "cell_type": "code",
   "execution_count": 6,
   "id": "92b613ac",
   "metadata": {},
   "outputs": [],
   "source": [
    "def BanxicoAPI():\n",
    "    series = \"SF43718,SF61745,SP68257\"\n",
    "    start(series)\n",
    "    data = start(series)\n",
    "    data_fx = fx(data)\n",
    "    data_udis = udis(data)    \n",
    "    data_tasa = tasa(data)\n",
    "    df_merge_1 = pd.merge(left=data_fx, right=data_tasa, on=\"fecha\")\n",
    "    df_full = pd.merge(left=df_merge_1, right=data_udis, on=\"fecha\")\n",
    "    print(\"Full df created\")\n",
    "    df_full.to_csv('Project_API_Banxico_JoaquinGonzalez.csv', sep=\",\", index=False)\n",
    "    print(\"CSV file exported\")\n",
    "    print(\"All done\")"
   ]
  },
  {
   "cell_type": "code",
   "execution_count": 7,
   "id": "fcf0dfc4",
   "metadata": {},
   "outputs": [
    {
     "name": "stdout",
     "output_type": "stream",
     "text": [
      "Correct URL created\n",
      "Connection status: 200\n",
      "Data created\n",
      "Correct URL created\n",
      "Connection status: 200\n",
      "Data created\n",
      "FX data extracted\n",
      "FX df created\n",
      "UDIS data extracted\n",
      "UDIS df created\n",
      "Tasa data extracted\n",
      "Tasa df created\n",
      "Full df created\n",
      "CSV file exported\n",
      "All done\n"
     ]
    }
   ],
   "source": [
    "BanxicoAPI()"
   ]
  },
  {
   "cell_type": "code",
   "execution_count": null,
   "id": "19db2f7a",
   "metadata": {},
   "outputs": [],
   "source": []
  }
 ],
 "metadata": {
  "kernelspec": {
   "display_name": "Python 3 (ipykernel)",
   "language": "python",
   "name": "python3"
  },
  "language_info": {
   "codemirror_mode": {
    "name": "ipython",
    "version": 3
   },
   "file_extension": ".py",
   "mimetype": "text/x-python",
   "name": "python",
   "nbconvert_exporter": "python",
   "pygments_lexer": "ipython3",
   "version": "3.10.2"
  }
 },
 "nbformat": 4,
 "nbformat_minor": 5
}
